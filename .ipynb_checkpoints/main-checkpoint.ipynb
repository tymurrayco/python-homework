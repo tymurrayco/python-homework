{
 "cells": [
  {
   "cell_type": "code",
   "execution_count": 17,
   "id": "5dfeb712",
   "metadata": {},
   "outputs": [
    {
     "name": "stdout",
     "output_type": "stream",
     "text": [
      "-2315.12\n",
      "Feb-2012\n",
      "Sep-2013\n"
     ]
    }
   ],
   "source": [
    "# initial imports\n",
    "import pandas as pd\n",
    "from pathlib import Path\n",
    "import csv\n",
    "\n",
    "csvpath = Path(\"Resources/budget_data.csv\")\n",
    "budget_data = pd.read_csv(csvpath)\n",
    "\n",
    "profitloss = 0\n",
    "profit = []\n",
    "profit_diff = []\n",
    "\n",
    "line_num = 0\n",
    "date = []\n",
    "\n",
    "with open(csvpath,'r') as csvfile:\n",
    "    csvreader = csv.reader(csvfile, delimiter=',')\n",
    "    header = next(csvreader)\n",
    "    \n",
    "    for row in csvreader:\n",
    "        #print(row)\n",
    "        line_num += 1\n",
    "        profitloss += int(row[1])\n",
    "        profit.append(int(row[1]))\n",
    "        date.append(row[0])\n",
    "        \n",
    "    for i in range(1, len(profit)):\n",
    "        profit_diff.append(profit[i] - profit[i-1])\n",
    "        avg_profit_change = round(sum(profit_diff)/len(profit_diff), 2)\n",
    "        max_profit_change = max(profit_diff)\n",
    "        min_profit_change = min(profit_diff)\n",
    "        max_profit_change = str(date[profit_diff.index(max(profit_diff))+1])\n",
    "        min_profit_change = str(date[profit_diff.index(min(profit_diff))+1])\n",
    "        \n",
    "print (avg_profit_change)\n",
    "print(max_profit_change)\n",
    "print(min_profit_change)"
   ]
  },
  {
   "cell_type": "code",
   "execution_count": null,
   "id": "7f01ab5b",
   "metadata": {},
   "outputs": [],
   "source": []
  },
  {
   "cell_type": "code",
   "execution_count": 18,
   "id": "0a0de0d4",
   "metadata": {},
   "outputs": [
    {
     "data": {
      "text/plain": [
       "86"
      ]
     },
     "execution_count": 18,
     "metadata": {},
     "output_type": "execute_result"
    }
   ],
   "source": [
    "#The total number of months included in the dataset\n",
    "\n",
    "months = budget_data['Date'].count()\n",
    "months"
   ]
  },
  {
   "cell_type": "code",
   "execution_count": 19,
   "id": "31fd292a",
   "metadata": {},
   "outputs": [
    {
     "data": {
      "text/plain": [
       "38382578"
      ]
     },
     "execution_count": 19,
     "metadata": {},
     "output_type": "execute_result"
    }
   ],
   "source": [
    "#The net total amount of Profit/Losses over the entire period\n",
    "\n",
    "total_profitlosses = budget_data['Profit/Losses'].sum()\n",
    "total_profitlosses"
   ]
  },
  {
   "cell_type": "code",
   "execution_count": 20,
   "id": "87420013",
   "metadata": {},
   "outputs": [
    {
     "data": {
      "text/plain": [
       "1170593"
      ]
     },
     "execution_count": 20,
     "metadata": {},
     "output_type": "execute_result"
    }
   ],
   "source": [
    "#The greatest increase in profits(date and amount) over the entire period\n",
    "\n",
    "greatest_inc = budget_data['Profit/Losses'].max()\n",
    "greatest_inc"
   ]
  },
  {
   "cell_type": "code",
   "execution_count": 21,
   "id": "98050720",
   "metadata": {},
   "outputs": [
    {
     "data": {
      "text/plain": [
       "-1196225"
      ]
     },
     "execution_count": 21,
     "metadata": {},
     "output_type": "execute_result"
    }
   ],
   "source": [
    "#The greatest decrease in losses(date and amount) over the entire period\n",
    "\n",
    "greatest_dec = budget_data['Profit/Losses'].min()\n",
    "greatest_dec"
   ]
  },
  {
   "cell_type": "code",
   "execution_count": 22,
   "id": "2b59aa08",
   "metadata": {},
   "outputs": [
    {
     "name": "stdout",
     "output_type": "stream",
     "text": [
      "Total Months: 86\n",
      "Total: $38382578\n",
      "Average Change: -2315.12\n",
      "Greatest Increase in Profits: Feb-2012 1170593\n",
      "Greatest Decrease in Profits: Sep-2013 -1196225\n"
     ]
    }
   ],
   "source": [
    "#Financial Analysis\n",
    "print(f'Total Months: {months}')\n",
    "print(f'Total: ${total_profitlosses}')\n",
    "print(f'Average Change: {avg_profit_change}')\n",
    "print(f'Greatest Increase in Profits: {max_profit_change} {greatest_inc}')\n",
    "print(f'Greatest Decrease in Profits: {min_profit_change} {greatest_dec}')"
   ]
  },
  {
   "cell_type": "code",
   "execution_count": 23,
   "id": "c184d21f",
   "metadata": {},
   "outputs": [
    {
     "name": "stdout",
     "output_type": "stream",
     "text": [
      "\n",
      "\n",
      "\n",
      "\n"
     ]
    }
   ],
   "source": [
    "output_path = 'output.txt'\n",
    "# Open the output path as a file object\n",
    "with open(output_path, 'w') as file:\n",
    "    # Write daily_average to the output file, convert to string\n",
    "    file.write(f'Total Months: {months}\\n')\n",
    "    print()\n",
    "    file.write(f'Total: ${total_profitlosses}\\n')\n",
    "    print()\n",
    "    file.write(f'Average Change: {avg_profit_change}\\n')\n",
    "    print()\n",
    "    file.write(f'Greatest Increase in Profits: {max_profit_change} {greatest_inc}\\n')\n",
    "    print()\n",
    "    file.write(f'Greatest Decrease in Profits: {min_profit_change} {greatest_dec}')"
   ]
  },
  {
   "cell_type": "code",
   "execution_count": null,
   "id": "9dce0cc8",
   "metadata": {},
   "outputs": [],
   "source": []
  },
  {
   "cell_type": "code",
   "execution_count": null,
   "id": "bd92acd2",
   "metadata": {},
   "outputs": [],
   "source": []
  },
  {
   "cell_type": "code",
   "execution_count": null,
   "id": "3f824556",
   "metadata": {},
   "outputs": [],
   "source": []
  },
  {
   "cell_type": "code",
   "execution_count": null,
   "id": "f4590e9c",
   "metadata": {},
   "outputs": [],
   "source": []
  }
 ],
 "metadata": {
  "kernelspec": {
   "display_name": "Python 3",
   "language": "python",
   "name": "python3"
  },
  "language_info": {
   "codemirror_mode": {
    "name": "ipython",
    "version": 3
   },
   "file_extension": ".py",
   "mimetype": "text/x-python",
   "name": "python",
   "nbconvert_exporter": "python",
   "pygments_lexer": "ipython3",
   "version": "3.8.5"
  }
 },
 "nbformat": 4,
 "nbformat_minor": 5
}
